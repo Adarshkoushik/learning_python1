{
 "cells": [
  {
   "cell_type": "code",
   "execution_count": 1,
   "id": "bf4eab2f",
   "metadata": {},
   "outputs": [
    {
     "name": "stdout",
     "output_type": "stream",
     "text": [
      "value inside the function :  [4, 5, 6, [1, 2, 3]]\n",
      "Value outside :  [4, 5, 6, [1, 2, 3]]\n"
     ]
    }
   ],
   "source": [
    "#function\n",
    "def changeme(mylist):\n",
    "    mylist.append([1,2,3])\n",
    "    print(\"value inside the function : \",mylist)\n",
    "    return\n",
    "\n",
    "mylist=[4,5,6]\n",
    "changeme(mylist)\n",
    "print(\"Value outside : \",mylist)"
   ]
  },
  {
   "cell_type": "code",
   "execution_count": 2,
   "id": "8f24d6ca",
   "metadata": {},
   "outputs": [
    {
     "name": "stdout",
     "output_type": "stream",
     "text": [
      "value inside the function :  [1, 2, 3]\n",
      "Value outside :  [4, 5, 6]\n"
     ]
    }
   ],
   "source": [
    "#pass by value\n",
    "def changeme(mylist):\n",
    "    mylist=[1,2,3]\n",
    "    print(\"value inside the function : \",mylist)\n",
    "    return\n",
    "\n",
    "mylist=[4,5,6]\n",
    "changeme(mylist)\n",
    "print(\"Value outside : \",mylist)"
   ]
  },
  {
   "cell_type": "code",
   "execution_count": 17,
   "id": "eeda39a2",
   "metadata": {},
   "outputs": [
    {
     "name": "stdout",
     "output_type": "stream",
     "text": [
      "Value Inside [12, 2, 3, 4]\n",
      "value Outside [12, 2, 3, 4]\n"
     ]
    }
   ],
   "source": [
    "#Pass by Reference\n",
    "a=[1,2,3,4]\n",
    "def hello(x):\n",
    "    x[0]=12\n",
    "    print(\"Value Inside\",x)\n",
    "    return\n",
    "hello(a)\n",
    "print(\"value Outside\",a)\n"
   ]
  },
  {
   "cell_type": "code",
   "execution_count": 4,
   "id": "ef2ea09b",
   "metadata": {},
   "outputs": [
    {
     "name": "stdout",
     "output_type": "stream",
     "text": [
      "value inside the function :  Adarsh\n",
      "Value outside :  <class 'str'>\n"
     ]
    }
   ],
   "source": [
    "def changeme(str):\n",
    "    print(\"value inside the function : \",str)\n",
    "    return\n",
    "\n",
    "changeme(str=\"Adarsh\")\n",
    "print(\"Value outside : \",str)"
   ]
  },
  {
   "cell_type": "code",
   "execution_count": 6,
   "id": "c2593d01",
   "metadata": {},
   "outputs": [
    {
     "name": "stdout",
     "output_type": "stream",
     "text": [
      "Name : Adarsh\n",
      "Age : 22\n"
     ]
    }
   ],
   "source": [
    "def myfunc(name,age):\n",
    "    print(\"Name :\",name)\n",
    "    print(\"Age :\",age)\n",
    "    return\n",
    "\n",
    "myfunc(age=22,name=\"Adarsh\")"
   ]
  },
  {
   "cell_type": "code",
   "execution_count": 7,
   "id": "264ee2f7",
   "metadata": {},
   "outputs": [
    {
     "name": "stdout",
     "output_type": "stream",
     "text": [
      "17\n"
     ]
    }
   ],
   "source": [
    "def add(a,b):\n",
    "    sum=a+b\n",
    "    return sum\n",
    "\n",
    "val=add(8,9)\n",
    "print(val)"
   ]
  },
  {
   "cell_type": "code",
   "execution_count": 8,
   "id": "3e56343c",
   "metadata": {},
   "outputs": [
    {
     "name": "stdout",
     "output_type": "stream",
     "text": [
      "Name is : Adarsh\n",
      "Age is : 20\n",
      "Name is : AK\n",
      "Age is : 22\n"
     ]
    }
   ],
   "source": [
    "def printinfo(name,age=22):\n",
    "    print(\"Name is :\",name)\n",
    "    print(\"Age is :\",age)\n",
    "    return\n",
    "\n",
    "printinfo(\"Adarsh\",20)\n",
    "printinfo(\"AK\")"
   ]
  },
  {
   "cell_type": "code",
   "execution_count": 11,
   "id": "7de13adb",
   "metadata": {},
   "outputs": [
    {
     "name": "stdout",
     "output_type": "stream",
     "text": [
      "Output is :\n",
      "10\n",
      "Output is :\n",
      "a\n",
      "b\n",
      "c\n"
     ]
    }
   ],
   "source": [
    "def func(arg1,*vars):\n",
    "    print(\"Output is :\")\n",
    "    print(arg1)\n",
    "    for var in vars:\n",
    "        print(var)\n",
    "    return\n",
    "\n",
    "func(10)\n",
    "func(\"a\",\"b\",\"c\")"
   ]
  },
  {
   "cell_type": "code",
   "execution_count": 12,
   "id": "41e9bb2f",
   "metadata": {},
   "outputs": [
    {
     "name": "stdout",
     "output_type": "stream",
     "text": [
      "Value is : 40\n"
     ]
    }
   ],
   "source": [
    "sum = lambda arg1,arg2 : arg1+arg2\n",
    "\n",
    "print(\"Value is :\", sum(20,20))\n"
   ]
  },
  {
   "cell_type": "code",
   "execution_count": 26,
   "id": "9eac0fe7",
   "metadata": {},
   "outputs": [
    {
     "data": {
      "text/plain": [
       "40"
      ]
     },
     "execution_count": 26,
     "metadata": {},
     "output_type": "execute_result"
    }
   ],
   "source": [
    "def sum1(num1,num2):\n",
    "    total=num1+num2\n",
    "    return total\n",
    "\n",
    "sum1(20,20)\n",
    "# print(\"The sum of two numbers is :\",val)\n"
   ]
  },
  {
   "cell_type": "code",
   "execution_count": 15,
   "id": "9cf5cc11",
   "metadata": {},
   "outputs": [
    {
     "name": "stdout",
     "output_type": "stream",
     "text": [
      "Total inside function: 40\n",
      "Total outside: 0\n"
     ]
    }
   ],
   "source": [
    "total=0\n",
    "\n",
    "def sun(a,b):\n",
    "    total=a+b\n",
    "    print(\"Total inside function:\",total)\n",
    "    return\n",
    "sun(20,20)\n",
    "print(\"Total outside:\",total)"
   ]
  },
  {
   "cell_type": "code",
   "execution_count": 22,
   "id": "268a10bc",
   "metadata": {},
   "outputs": [
    {
     "name": "stdout",
     "output_type": "stream",
     "text": [
      "['__doc__', '__loader__', '__name__', '__package__', '__spec__', 'acos', 'acosh', 'asin', 'asinh', 'atan', 'atan2', 'atanh', 'ceil', 'comb', 'copysign', 'cos', 'cosh', 'degrees', 'dist', 'e', 'erf', 'erfc', 'exp', 'expm1', 'fabs', 'factorial', 'floor', 'fmod', 'frexp', 'fsum', 'gamma', 'gcd', 'hypot', 'inf', 'isclose', 'isfinite', 'isinf', 'isnan', 'isqrt', 'lcm', 'ldexp', 'lgamma', 'log', 'log10', 'log1p', 'log2', 'modf', 'nan', 'nextafter', 'perm', 'pi', 'pow', 'prod', 'radians', 'remainder', 'sin', 'sinh', 'sqrt', 'tan', 'tanh', 'tau', 'trunc', 'ulp']\n"
     ]
    }
   ],
   "source": [
    "import math\n",
    "\n",
    "content = dir(math)\n",
    "print(content)"
   ]
  },
  {
   "cell_type": "code",
   "execution_count": 23,
   "id": "23df4521",
   "metadata": {},
   "outputs": [
    {
     "name": "stdout",
     "output_type": "stream",
     "text": [
      "2000\n",
      "2001\n"
     ]
    }
   ],
   "source": [
    "Money = 2000\n",
    "def AddMoney():\n",
    "   global Money\n",
    "   Money = Money + 1\n",
    "\n",
    "print(Money)\n",
    "AddMoney()\n",
    "print(Money)"
   ]
  },
  {
   "cell_type": "code",
   "execution_count": 26,
   "id": "63afd107",
   "metadata": {},
   "outputs": [
    {
     "name": "stdout",
     "output_type": "stream",
     "text": [
      "python is really an interesting language, isn't it?\n"
     ]
    }
   ],
   "source": [
    "print(\"python is really an interesting language,\",\"isn't it?\")"
   ]
  },
  {
   "cell_type": "code",
   "execution_count": 30,
   "id": "6bc08794",
   "metadata": {},
   "outputs": [
    {
     "name": "stdout",
     "output_type": "stream",
     "text": [
      "Enter your input Adarsh\n",
      "Your input is,  Adarsh\n"
     ]
    }
   ],
   "source": [
    "str = input(\"Enter your input \")\n",
    "print(\"Your input is, \", str)"
   ]
  },
  {
   "cell_type": "code",
   "execution_count": 44,
   "id": "06c0dec3",
   "metadata": {},
   "outputs": [
    {
     "name": "stdout",
     "output_type": "stream",
     "text": [
      "Enter the num1: 10\n",
      "Enter the num2: 20\n",
      "Sum of 10 and 20 is \n",
      "30\n"
     ]
    }
   ],
   "source": [
    "def sum():\n",
    "    a=int(input(\"Enter the num1: \"))\n",
    "    b=int(input(\"Enter the num2: \"))\n",
    "    print(\"Sum of %d and %d is \"%(a,b))\n",
    "    total=a+b\n",
    "    return total\n",
    "\n",
    "total=sum()\n",
    "print(total)\n",
    "    \n",
    "    "
   ]
  },
  {
   "cell_type": "code",
   "execution_count": 61,
   "id": "495bcdd4",
   "metadata": {},
   "outputs": [
    {
     "name": "stdout",
     "output_type": "stream",
     "text": [
      "[10, 20, 30, 40]\n"
     ]
    }
   ],
   "source": [
    "a=[x*5 for x in range(2,10,2)]\n",
    "print(a)\n"
   ]
  },
  {
   "cell_type": "code",
   "execution_count": 6,
   "id": "338af52d",
   "metadata": {},
   "outputs": [
    {
     "name": "stdout",
     "output_type": "stream",
     "text": [
      "Written content to the file successfully\n"
     ]
    }
   ],
   "source": [
    "try:\n",
    "    fo=open(\"exampe\",\"w\")\n",
    "    fo.write(\"This is my file for exception handling \")\n",
    "except Exception:\n",
    "    print(\"Error: Cant find file or read data\")\n",
    "else:\n",
    "    print(\"Written content to the file successfully\")\n",
    "    fo.close()\n",
    "\n"
   ]
  },
  {
   "cell_type": "code",
   "execution_count": 10,
   "id": "49189467",
   "metadata": {},
   "outputs": [
    {
     "name": "stdout",
     "output_type": "stream",
     "text": [
      "Written content in the file successfully\n"
     ]
    }
   ],
   "source": [
    "try:\n",
    "    fh = open(\"testfile\", \"w\")\n",
    "    fh.write(\"This is my test file for exception handling!!\")\n",
    "except IOError:\n",
    "    print(\"Error: can\\'t find file or read data\")\n",
    "else:\n",
    "    print(\"Written content in the file successfully\")\n",
    "    fh.close()"
   ]
  },
  {
   "cell_type": "code",
   "execution_count": 11,
   "id": "c0846474",
   "metadata": {},
   "outputs": [
    {
     "name": "stdout",
     "output_type": "stream",
     "text": [
      "Error: can't find file or read data\n"
     ]
    }
   ],
   "source": [
    "try:\n",
    "    fh = open(\"testfile\", \"r\")\n",
    "    fh.write(\"This is my test file for exception handling!!\")\n",
    "except IOError:\n",
    "    print(\"Error: can\\'t find file or read data\")\n",
    "else:\n",
    "    print(\"Written content in the file successfully\")\n",
    "    fh.close()"
   ]
  },
  {
   "cell_type": "code",
   "execution_count": 19,
   "id": "ad2c1a8b",
   "metadata": {},
   "outputs": [
    {
     "name": "stdout",
     "output_type": "stream",
     "text": [
      "Going to close the file\n"
     ]
    }
   ],
   "source": [
    "try:\n",
    "    fh = open(\"testfile\", \"w\")\n",
    "    fh.write(\"This is my test file for exception handling!!\")\n",
    "except IOError:\n",
    "    print(\"Error: can\\'t find file or read data\")\n",
    "finally:\n",
    "    print(\"Going to close the file\")\n",
    "    fh.close()\n"
   ]
  },
  {
   "cell_type": "code",
   "execution_count": 18,
   "id": "9777a962",
   "metadata": {},
   "outputs": [
    {
     "name": "stdout",
     "output_type": "stream",
     "text": [
      "The argument does not contain numbers\n",
      " invalid literal for int() with base 10: 'xyz'\n"
     ]
    }
   ],
   "source": [
    "def temp_convert(var):\n",
    "    try:\n",
    "        return int(var)\n",
    "    except Exception as e:\n",
    "      print(\"The argument does not contain numbers\\n\", str(e))\n",
    "\n",
    "# Call above function here.\n",
    "temp_convert(\"xyz\");"
   ]
  },
  {
   "cell_type": "code",
   "execution_count": 20,
   "id": "7b521e27",
   "metadata": {},
   "outputs": [],
   "source": [
    "class MyFirstClass:\n",
    "    'This is info about Class'\n",
    "    pass"
   ]
  },
  {
   "cell_type": "code",
   "execution_count": 27,
   "id": "9857fcc1",
   "metadata": {},
   "outputs": [
    {
     "name": "stdout",
     "output_type": "stream",
     "text": [
      "Name :  Zara\n",
      "Salary :  2000\n",
      "Name :  Mani\n",
      "Salary :  1000\n",
      "Total Employees : 2\n"
     ]
    }
   ],
   "source": [
    "class Employee:\n",
    "    'BaseClass for all employees'\n",
    "    empCount=0 #class variable whose value is shared among all instances, Employee.empCount\n",
    "    \n",
    "    def __init__(self,name,salary):\n",
    "        self.name=name\n",
    "        self.salary=salary\n",
    "        Employee.empCount+=1\n",
    "\n",
    "    def display_count(self):\n",
    "        print(\"Total Employees : %d\" % (Employee.empCount))\n",
    "    \n",
    "    def display_employee(self):\n",
    "        print(\"Name : \",self.name)\n",
    "        print(\"Salary : \",self.salary)\n",
    "\n",
    "#To create instances of a class, you call the class using class name and pass in whatever arguments its __init__ method accepts.\n",
    "#1st obj\n",
    "emp1=Employee(\"Zara\",2000)\n",
    "#2nd obj\n",
    "emp2=Employee(\"Mani\",1000)\n",
    "\n",
    "#accessing attributes using '.' operator\n",
    "\n",
    "emp1.display_employee()\n",
    "emp2.display_employee()\n",
    "\n",
    "print(\"Total Employees : %d\" % (Employee.empCount))\n",
    "\n",
    "    "
   ]
  },
  {
   "cell_type": "code",
   "execution_count": 29,
   "id": "7639f5a3",
   "metadata": {},
   "outputs": [
    {
     "name": "stdout",
     "output_type": "stream",
     "text": [
      "Adarsh\n",
      "2000\n"
     ]
    }
   ],
   "source": [
    "class Programmer:\n",
    "    \n",
    "    def setName(self,n):\n",
    "        self.name=n\n",
    "    \n",
    "    def getName(self):\n",
    "        return self.name\n",
    "    \n",
    "    def setSalary(self,sal):\n",
    "        self.salary=sal\n",
    "    \n",
    "    def getSalary(self):\n",
    "        return self.salary\n",
    "    \n",
    "p1=Programmer()\n",
    "p1.setName(\"Adarsh\")\n",
    "p1.setSalary(2000)\n",
    "\n",
    "print(p1.getName())\n",
    "print(p1.getSalary())\n",
    "    \n",
    "    "
   ]
  },
  {
   "cell_type": "code",
   "execution_count": 30,
   "id": "64247456",
   "metadata": {},
   "outputs": [
    {
     "name": "stdout",
     "output_type": "stream",
     "text": [
      "CSE\n",
      "CSE\n",
      "John\n",
      "Mary\n",
      "CSE\n"
     ]
    }
   ],
   "source": [
    "class Student:\n",
    "    major=\"CSE\"      #static field\n",
    "    \n",
    "    def __init__(self,rollno,name):\n",
    "        self.rollno=rollno\n",
    "        self.name=name\n",
    "    \n",
    "s1=Student(1,\"John\")\n",
    "s2=Student(2,\"Mary\")\n",
    "print(s1.major)\n",
    "print(s2.major)\n",
    "print(s1.name)\n",
    "print(s2.name)\n",
    "print(Student.major)"
   ]
  },
  {
   "cell_type": "code",
   "execution_count": 31,
   "id": "079f2d53",
   "metadata": {},
   "outputs": [
    {
     "name": "stdout",
     "output_type": "stream",
     "text": [
      "2\n"
     ]
    }
   ],
   "source": [
    "class objcount:\n",
    "    no_of_obj=0\n",
    "    \n",
    "    def __init__(self):\n",
    "        objcount.no_of_obj+=1\n",
    "        \n",
    "    @staticmethod\n",
    "    def display():\n",
    "        print(objcount.no_of_obj)\n",
    "\n",
    "ob1=objcount()\n",
    "ob2=objcount()\n",
    "\n",
    "objcount.display()"
   ]
  },
  {
   "cell_type": "code",
   "execution_count": 33,
   "id": "c9007420",
   "metadata": {},
   "outputs": [
    {
     "name": "stdout",
     "output_type": "stream",
     "text": [
      "Engine Started\n"
     ]
    }
   ],
   "source": [
    "#inner class\n",
    "\n",
    "class car:\n",
    "    def __init__(self,make,year):\n",
    "        self.make=make\n",
    "        self.year=year\n",
    "    \n",
    "    class engine:\n",
    "        def __init__(self,num):\n",
    "            self.number=num\n",
    "        \n",
    "        def start(self):\n",
    "            print(\"Engine Started\")\n",
    "        \n",
    "c=car(\"BMW\",2019)\n",
    "e=c.engine(123)\n",
    "e.start()"
   ]
  },
  {
   "cell_type": "code",
   "execution_count": 34,
   "id": "38e73dd3",
   "metadata": {},
   "outputs": [
    {
     "name": "stdout",
     "output_type": "stream",
     "text": [
      "True\n",
      "False\n",
      "True\n"
     ]
    }
   ],
   "source": [
    "import gc\n",
    "\n",
    "print(gc.isenabled())\n",
    "gc.disable()\n",
    "print(gc.isenabled())\n",
    "gc.enable()\n",
    "print(gc.isenabled())\n"
   ]
  },
  {
   "cell_type": "code",
   "execution_count": 39,
   "id": "ba9f2daf",
   "metadata": {},
   "outputs": [
    {
     "name": "stdout",
     "output_type": "stream",
     "text": [
      "The courses taken by  John are: \n",
      "java\n",
      "js\n",
      "cad\n",
      "The courses taken by  Bill are: \n",
      "python\n",
      "mongo\n",
      "sql\n",
      "The courses taken by  Mark are: \n",
      "js\n",
      "angular\n",
      "react\n"
     ]
    }
   ],
   "source": [
    "student={\"John\":[\"java\",\"js\",\"cad\"],\"Bill\":[\"python\",\"mongo\",\"sql\"],\"Mark\":[\"js\",\"angular\",\"react\"]}\n",
    "k=student.keys()\n",
    "for i in k:\n",
    "    print(\"The courses taken by \",i,\"are: \")\n",
    "    for j in student[i]:\n",
    "        print(j)"
   ]
  },
  {
   "cell_type": "code",
   "execution_count": 43,
   "id": "29cbc917",
   "metadata": {},
   "outputs": [
    {
     "name": "stdout",
     "output_type": "stream",
     "text": [
      "I am \"Adarsh\"\n"
     ]
    }
   ],
   "source": [
    "print(\"I am \\\"Adarsh\\\"\")"
   ]
  },
  {
   "cell_type": "code",
   "execution_count": 49,
   "id": "263247ea",
   "metadata": {},
   "outputs": [
    {
     "name": "stdout",
     "output_type": "stream",
     "text": [
      "1\n",
      "2\n",
      "3\n",
      "4\n",
      "5\n",
      "6\n",
      "7\n",
      "8\n",
      "9\n",
      "10\n",
      "11\n",
      "12\n",
      "13\n",
      "14\n",
      "15\n",
      "16\n",
      "17\n",
      "18\n",
      "19\n",
      "20\n"
     ]
    }
   ],
   "source": [
    "x=1\n",
    "while(x<=20):\n",
    "    print(x)\n",
    "    x+=1\n",
    "    "
   ]
  },
  {
   "cell_type": "code",
   "execution_count": 56,
   "id": "54d84e1a",
   "metadata": {},
   "outputs": [
    {
     "name": "stdout",
     "output_type": "stream",
     "text": [
      "Enter min number2\n",
      "Enter max number10\n",
      "3\n",
      "5\n",
      "7\n",
      "9\n"
     ]
    }
   ],
   "source": [
    "#Snippet to print odd numbers between 2 nos\n",
    "x=int(input(\"Enter min number\"))\n",
    "y=int(input(\"Enter max number\"))\n",
    "\n",
    "i=x\n",
    "if i % 2 == 0: i+=1\n",
    "while(i<y):\n",
    "    print(i)\n",
    "    i+=2\n",
    "    "
   ]
  },
  {
   "cell_type": "code",
   "execution_count": 59,
   "id": "ebd4f25d",
   "metadata": {},
   "outputs": [
    {
     "name": "stdout",
     "output_type": "stream",
     "text": [
      "50\n",
      "52\n",
      "54\n",
      "56\n",
      "58\n",
      "60\n",
      "62\n",
      "64\n",
      "66\n",
      "68\n",
      "70\n"
     ]
    }
   ],
   "source": [
    "for i in range(50,71,2):\n",
    "    print(i)"
   ]
  },
  {
   "cell_type": "code",
   "execution_count": 61,
   "id": "aed2ac61",
   "metadata": {},
   "outputs": [
    {
     "name": "stdout",
     "output_type": "stream",
     "text": [
      "120\n"
     ]
    }
   ],
   "source": [
    "#Product of numbers in list\n",
    "lst=[1,2,3,4,5]\n",
    "prod=1\n",
    "\n",
    "for i in lst:\n",
    "    prod*=i\n",
    "print(prod)"
   ]
  },
  {
   "cell_type": "code",
   "execution_count": 62,
   "id": "765e14f6",
   "metadata": {},
   "outputs": [
    {
     "name": "stdout",
     "output_type": "stream",
     "text": [
      "Enter a number to multiply2\n",
      "2 X 1 = 2\n",
      "2 X 2 = 4\n",
      "2 X 3 = 6\n",
      "2 X 4 = 8\n",
      "2 X 5 = 10\n",
      "2 X 6 = 12\n",
      "2 X 7 = 14\n",
      "2 X 8 = 16\n",
      "2 X 9 = 18\n",
      "2 X 10 = 20\n"
     ]
    }
   ],
   "source": [
    "x=int(input(\"Enter a number to multiply\"))\n",
    "\n",
    "for i in range(1,11):\n",
    "    print(x,\"X\",i,\"=\",i*x)"
   ]
  },
  {
   "cell_type": "code",
   "execution_count": 63,
   "id": "69f4f56e",
   "metadata": {},
   "outputs": [
    {
     "name": "stdout",
     "output_type": "stream",
     "text": [
      "1\n",
      "2\n",
      "4\n",
      "5\n",
      "7\n",
      "8\n",
      "10\n",
      "11\n",
      "13\n",
      "14\n",
      "16\n",
      "17\n",
      "19\n",
      "20\n"
     ]
    }
   ],
   "source": [
    "x=0\n",
    "while x<20:\n",
    "    x+=1\n",
    "    if x%3==0:\n",
    "        continue\n",
    "    print(x)"
   ]
  },
  {
   "cell_type": "code",
   "execution_count": 67,
   "id": "ed9738ca",
   "metadata": {},
   "outputs": [
    {
     "name": "stdout",
     "output_type": "stream",
     "text": [
      "Enter a number greater than 10: 12\n",
      "U Entered 12\n"
     ]
    }
   ],
   "source": [
    "x=int(input(\"Enter a number greater than 10: \"))\n",
    "assert x>10,\"Wrong Number Entered\"\n",
    "print(\"U Entered\",x)"
   ]
  },
  {
   "cell_type": "code",
   "execution_count": 68,
   "id": "e65015d9",
   "metadata": {},
   "outputs": [
    {
     "name": "stdout",
     "output_type": "stream",
     "text": [
      "Enter the list elements[10,20,20,30,40,50,40]\n",
      "[10, 20, 30, 40, 50]\n"
     ]
    }
   ],
   "source": [
    "#Remove duplicate elements from list\n",
    "l1=eval(input(\"Enter the list elements\"))\n",
    "l2=[]\n",
    "for x in l1:\n",
    "    if x not in l2:\n",
    "        l2.append(x)\n",
    "print(l2)\n",
    "\n",
    "#Another method\n",
    "# l1=eval(input(\"Enter the list elements\"))\n",
    "# s1=set(l1)\n",
    "# print(s1)\n"
   ]
  },
  {
   "cell_type": "code",
   "execution_count": 87,
   "id": "c2efd306",
   "metadata": {},
   "outputs": [
    {
     "name": "stdout",
     "output_type": "stream",
     "text": [
      "Enter the number of employees2\n",
      "Enter Name : Adarsh\n",
      "Enter Salary: 1000\n",
      "salary 1000\n",
      "Enter Name : Nitin\n",
      "Enter Salary: 2000\n",
      "salary 2000\n",
      "Enter Employee nameChirag\n",
      "Chirag  Doesnt exist\n",
      "Do you want to know salary of another Employee? Yes/Noy\n",
      "Enter Employee nameAdarsh\n",
      "Salary of  Adarsh  is  1000\n",
      "Do you want to know salary of another Employee? Yes/Nono\n",
      "Enter Employee namen\n",
      "n  Doesnt exist\n",
      "Do you want to know salary of another Employee? Yes/NoNo\n"
     ]
    }
   ],
   "source": [
    "x=int(input(\"Enter the number of employees\"))\n",
    "employee = {}\n",
    "for i in range(x):\n",
    "    name=input(\"Enter Name : \")\n",
    "    salary=int(input(\"Enter Salary: \"))\n",
    "    print(\"salary\",salary)\n",
    "    employee[name]=salary\n",
    "while True:\n",
    "    name=(input(\"Enter Employee name\"))\n",
    "    salary=employee.get(name,-1)\n",
    "    if salary==-1:\n",
    "        print(name,\" Doesnt exist\")\n",
    "    else:\n",
    "        print(\"Salary of \",name,\" is \",salary)\n",
    "    choice=input(\"Do you want to know salary of another Employee? Yes/No\")\n",
    "    if choice=='No':\n",
    "        break"
   ]
  },
  {
   "cell_type": "code",
   "execution_count": 97,
   "id": "bb6fbfe3",
   "metadata": {},
   "outputs": [
    {
     "name": "stdout",
     "output_type": "stream",
     "text": [
      "Enter a string to reverseadarsh\n",
      "Reversed string is hsrada\n"
     ]
    }
   ],
   "source": [
    "s=input(\"Enter a string to reverse\")\n",
    "#print(s[::-1])\n",
    "result=''\n",
    "i=len(s)-1\n",
    "while i>=0:\n",
    "    result=result+s[i]\n",
    "    i-=1\n",
    "print(\"Reversed string is\",result)"
   ]
  },
  {
   "cell_type": "code",
   "execution_count": 101,
   "id": "91bff0a6",
   "metadata": {},
   "outputs": [
    {
     "name": "stdout",
     "output_type": "stream",
     "text": [
      "Enter a string to reverse: adarsh\n",
      "hsrada\n"
     ]
    }
   ],
   "source": [
    "s=input(\"Enter a string to reverse: \")\n",
    "print(''.join(reversed(s)))"
   ]
  },
  {
   "cell_type": "code",
   "execution_count": 114,
   "id": "3ccc6fbd",
   "metadata": {},
   "outputs": [
    {
     "name": "stdout",
     "output_type": "stream",
     "text": [
      "Enter the number of rows: 3\n",
      "0\n",
      "0\n",
      "* \n",
      "1\n",
      "0\n",
      "* 1\n",
      "* \n",
      "2\n",
      "0\n",
      "* 1\n",
      "* 2\n",
      "* \n"
     ]
    }
   ],
   "source": [
    "n=int(input(\"Enter the number of rows: \"))\n",
    "for i in range(0,n):\n",
    "    print(i)\n",
    "    for j in range(0,i+1):\n",
    "        print(j)\n",
    "        print(\"*\",end=' ')\n",
    "    print()"
   ]
  },
  {
   "cell_type": "code",
   "execution_count": 113,
   "id": "11a35a90",
   "metadata": {},
   "outputs": [
    {
     "name": "stdout",
     "output_type": "stream",
     "text": [
      "Enter the number of rows: 3\n",
      "* * * \n",
      "* * \n",
      "* \n",
      "\n"
     ]
    }
   ],
   "source": [
    "n=int(input(\"Enter the number of rows: \"))\n",
    "for i in range(n+1,0,-1):\n",
    "    for j in range(0,i-1):\n",
    "        print(\"*\",end=' ')\n",
    "    print()"
   ]
  },
  {
   "cell_type": "code",
   "execution_count": 117,
   "id": "94fcf070",
   "metadata": {},
   "outputs": [
    {
     "name": "stdout",
     "output_type": "stream",
     "text": [
      "Enter the number of rows: 3\n",
      "* \n",
      "* * \n",
      "* * * \n"
     ]
    }
   ],
   "source": [
    "n=int(input(\"Enter the number of rows: \"))\n",
    "for i in range(1,n+1):\n",
    "    for j in range(1,i+1):\n",
    "        print(\"*\",end=' ')\n",
    "    print()"
   ]
  },
  {
   "cell_type": "code",
   "execution_count": 142,
   "id": "4dcd388b",
   "metadata": {},
   "outputs": [
    {
     "name": "stdout",
     "output_type": "stream",
     "text": [
      "10 1\n",
      "2 9\n"
     ]
    }
   ],
   "source": [
    "l=[10,2,1,9,3,7]\n",
    "for i in range(0,len(l)):\n",
    "    #print(i)\n",
    "    for j in range(i+1,len(l)):\n",
    "        #print(j)\n",
    "        if l[i]+l[j]==11:\n",
    "            print(l[i],l[j])"
   ]
  },
  {
   "cell_type": "code",
   "execution_count": 149,
   "id": "4d309a27",
   "metadata": {},
   "outputs": [
    {
     "name": "stdout",
     "output_type": "stream",
     "text": [
      "[1, 2, 7, 9, 11]\n"
     ]
    }
   ],
   "source": [
    "l=[2,1,9,11,7]\n",
    "# l.sort()\n",
    "# print(l)\n",
    "for i in range(0,len(l)):\n",
    "    for j in range(i+1,len(l)):\n",
    "        if l[i]>l[j]:\n",
    "            l[i],l[j]=l[j],l[i]\n",
    "print(l)\n",
    "    "
   ]
  },
  {
   "cell_type": "code",
   "execution_count": 154,
   "id": "4162342d",
   "metadata": {},
   "outputs": [
    {
     "name": "stdout",
     "output_type": "stream",
     "text": [
      "hsradA\n"
     ]
    }
   ],
   "source": [
    "str=\"Adarsh\"\n",
    "#print(str[::-1])\n",
    "rev=''\n",
    "i=len(str)-1\n",
    "while i>=0:\n",
    "    rev=rev+str[i]\n",
    "    i-=1\n",
    "print(rev)"
   ]
  },
  {
   "cell_type": "code",
   "execution_count": null,
   "id": "381ea05f",
   "metadata": {},
   "outputs": [],
   "source": []
  },
  {
   "cell_type": "code",
   "execution_count": 159,
   "id": "397215c3",
   "metadata": {},
   "outputs": [
    {
     "name": "stdout",
     "output_type": "stream",
     "text": [
      "A\n",
      "A\n",
      "d\n",
      "Ad\n",
      "a\n",
      "Ada\n",
      "r\n",
      "Adar\n",
      "s\n",
      "Adars\n",
      "h\n",
      "Adarsh\n",
      "Adarsh\n"
     ]
    }
   ],
   "source": [
    "str1=\"Adarsh\"\n",
    "str2=\"\"\n",
    "for i in str1:\n",
    "    print(i)\n",
    "    str2= str2+i\n",
    "    print(str2)\n",
    "print(str2)"
   ]
  },
  {
   "cell_type": "code",
   "execution_count": 178,
   "id": "443763af",
   "metadata": {},
   "outputs": [
    {
     "name": "stdout",
     "output_type": "stream",
     "text": [
      "n 2\n",
      "i 3\n",
      "t 1\n",
      "h 1\n"
     ]
    }
   ],
   "source": [
    "name=\"nithin\"\n",
    "check=[]\n",
    "for i in name:\n",
    "    if i not in check:\n",
    "        check.append(i)\n",
    "        print(i,name.count(i))\n",
    "#print(check)\n",
    "# out = ''.join(check)\n",
    "# print(out)\n",
    "# for i in check:\n",
    "#print(i,name.count(i))   \n",
    "\n",
    "\n"
   ]
  },
  {
   "cell_type": "code",
   "execution_count": 181,
   "id": "4a1bf700",
   "metadata": {},
   "outputs": [
    {
     "name": "stdout",
     "output_type": "stream",
     "text": [
      "n\n",
      "t\n",
      "i\n"
     ]
    }
   ],
   "source": [
    "name=\"nithin\"\n",
    "for i in range(0,len(name)):\n",
    "    if i%2==0:\n",
    "        print(name[i])\n",
    "    #print(i)"
   ]
  },
  {
   "cell_type": "code",
   "execution_count": 195,
   "id": "1cfa4efa",
   "metadata": {},
   "outputs": [
    {
     "name": "stdout",
     "output_type": "stream",
     "text": [
      "Bye\n",
      "Bye\n",
      "Bye\n",
      "Bye\n",
      "Bye\n"
     ]
    }
   ],
   "source": [
    "l=[2,8,\"hello\",9,\"ad\"]\n",
    "for i in l:\n",
    "    if type(i)== str:\n",
    "        print(\"Hi\")\n",
    "    else:\n",
    "        print(\"Bye\")\n",
    "        "
   ]
  },
  {
   "cell_type": "code",
   "execution_count": 307,
   "id": "6f3ed7fe",
   "metadata": {},
   "outputs": [
    {
     "name": "stdout",
     "output_type": "stream",
     "text": [
      "6\n"
     ]
    }
   ],
   "source": [
    "l=[1,0,1,0,1,1,1,0,1,1,1,1,0,1,1,1,1,1,1,0,0,0,0,0,0,0]\n",
    "count=0\n",
    "res=0\n",
    "for i in range(0,len(l)):\n",
    "    if l[i]==1:\n",
    "        count+=1\n",
    "        if count>res:\n",
    "            res=count\n",
    "    else:\n",
    "        count=0\n",
    "        \n",
    "print(res)"
   ]
  },
  {
   "cell_type": "code",
   "execution_count": 216,
   "id": "50044760",
   "metadata": {},
   "outputs": [
    {
     "name": "stdout",
     "output_type": "stream",
     "text": [
      "Hello Adarsh\n"
     ]
    }
   ],
   "source": [
    "#function inside another function\n",
    "\n",
    "def func1(name):\n",
    "    def message():\n",
    "        return \"Hello \"   \n",
    "    result = message() + name\n",
    "    return result\n",
    "\n",
    "print(func1(\"Adarsh\"))"
   ]
  },
  {
   "cell_type": "code",
   "execution_count": 220,
   "id": "b60a734f",
   "metadata": {},
   "outputs": [
    {
     "name": "stdout",
     "output_type": "stream",
     "text": [
      "Hello Adarsh\n"
     ]
    }
   ],
   "source": [
    "#passing function as a parameter to another function\n",
    "\n",
    "def func1(fun):\n",
    "    return \"Hello \"+fun\n",
    "def name():\n",
    "    return \"Adarsh\"\n",
    "\n",
    "print(func1(name()))"
   ]
  },
  {
   "cell_type": "code",
   "execution_count": 223,
   "id": "eda6432c",
   "metadata": {},
   "outputs": [
    {
     "name": "stdout",
     "output_type": "stream",
     "text": [
      "Hello!\n"
     ]
    }
   ],
   "source": [
    "#Returning Functions\n",
    "\n",
    "def fun1():\n",
    "    def message():\n",
    "        return \"Hello!\"\n",
    "    return message\n",
    "\n",
    "fun=fun1()\n",
    "print(fun())"
   ]
  },
  {
   "cell_type": "code",
   "execution_count": 224,
   "id": "6583e3a8",
   "metadata": {},
   "outputs": [
    {
     "name": "stdout",
     "output_type": "stream",
     "text": [
      "1\n",
      "2\n",
      "3\n",
      "4\n"
     ]
    }
   ],
   "source": [
    "#Passing a list as parameter to function\n",
    "\n",
    "def func1(lst):\n",
    "    for i in lst:\n",
    "        print(i)\n",
    "func1([1,2,3,4])\n"
   ]
  },
  {
   "cell_type": "code",
   "execution_count": 225,
   "id": "8fbbac47",
   "metadata": {},
   "outputs": [
    {
     "name": "stdout",
     "output_type": "stream",
     "text": [
      "120\n"
     ]
    }
   ],
   "source": [
    "#Recursion\n",
    "\n",
    "def fact(n):\n",
    "    if n==0:\n",
    "        return 1\n",
    "    else:\n",
    "        return n*fact(n-1)\n",
    "\n",
    "print(fact(5))"
   ]
  },
  {
   "cell_type": "code",
   "execution_count": 226,
   "id": "aa932d10",
   "metadata": {},
   "outputs": [
    {
     "name": "stdout",
     "output_type": "stream",
     "text": [
      "a= 10\n",
      "b= 20\n",
      "15.0\n"
     ]
    }
   ],
   "source": [
    "#keyword args\n",
    "\n",
    "def func1(a,b):\n",
    "    print(\"a=\",a)\n",
    "    print(\"b=\",b)\n",
    "    return (a+b)/2\n",
    "print(func1(b=20,a=10))"
   ]
  },
  {
   "cell_type": "code",
   "execution_count": 227,
   "id": "acbe9cf3",
   "metadata": {},
   "outputs": [
    {
     "name": "stdout",
     "output_type": "stream",
     "text": [
      "a= 20\n",
      "b= 20\n",
      "20.0\n"
     ]
    }
   ],
   "source": [
    "#default args\n",
    "\n",
    "def func1(a=10,b=20):\n",
    "    print(\"a=\",a)\n",
    "    print(\"b=\",b)\n",
    "    return (a+b)/2\n",
    "print(func1(a=20))"
   ]
  },
  {
   "cell_type": "code",
   "execution_count": 228,
   "id": "3e5fa570",
   "metadata": {},
   "outputs": [
    {
     "name": "stdout",
     "output_type": "stream",
     "text": [
      "BMI is:  12.581871951925768\n"
     ]
    }
   ],
   "source": [
    "#BMI\n",
    "\n",
    "def calc(h,w):\n",
    "    h_in_m=h*0.4536\n",
    "    bmi=w/(h_in_m*h_in_m)\n",
    "    return bmi\n",
    "\n",
    "print(\"BMI is: \",calc(5.2,70))"
   ]
  },
  {
   "cell_type": "code",
   "execution_count": 250,
   "id": "12c461fe",
   "metadata": {},
   "outputs": [
    {
     "name": "stdout",
     "output_type": "stream",
     "text": [
      "lll 10\n",
      "Optional args:-\n",
      "20\n",
      "30\n",
      "Keyword args:-\n",
      "name : Adarsh\n",
      "sal : 100\n"
     ]
    }
   ],
   "source": [
    "#optional args and keyword args\n",
    "\n",
    "def func1(x,*args,**kwargs):\n",
    "    print(\"lll\",x)\n",
    "    print(\"Optional args:-\")\n",
    "    for x in args:\n",
    "        print(x)\n",
    "    print(\"Keyword args:-\")\n",
    "    for i,j in kwargs.items():\n",
    "        print(i,\":\",j)\n",
    "func1(10,20,30,name=\"Adarsh\",sal=100)"
   ]
  },
  {
   "cell_type": "code",
   "execution_count": 255,
   "id": "4ec136d8",
   "metadata": {},
   "outputs": [
    {
     "name": "stdout",
     "output_type": "stream",
     "text": [
      "xxxx 10\n",
      "Optional args:-\n",
      "m_args (20, 30, 40)\n",
      "20\n",
      "30\n",
      "Keyword args:-\n",
      "name : Adarsh\n",
      "sal : 100\n",
      "age : 22\n",
      "(20, 30, 40)\n",
      "{'name': 'Adarsh', 'sal': 100, 'age': 22}\n"
     ]
    }
   ],
   "source": [
    "#passing opt and kwargs to other function with modification\n",
    "\n",
    "def func1(x,*args,**kwargs):\n",
    "    print(\"xxxx\",x)\n",
    "    print(\"Optional args:-\")\n",
    "    m_args=args+(40,)\n",
    "    print(\"m_args\",m_args)\n",
    "    kwargs['age']=22\n",
    "    for x in args:\n",
    "        print(x)\n",
    "    print(\"Keyword args:-\")\n",
    "    for i,j in kwargs.items():\n",
    "        print(i,\":\",j)\n",
    "    fun2(*m_args,**kwargs)\n",
    "def fun2(*args,**kwargs):\n",
    "    print(args)\n",
    "    print(kwargs)\n",
    "func1(10,20,30,name=\"Adarsh\",sal=100)\n",
    "    "
   ]
  },
  {
   "cell_type": "code",
   "execution_count": 256,
   "id": "ce139c10",
   "metadata": {},
   "outputs": [
    {
     "name": "stdout",
     "output_type": "stream",
     "text": [
      "27\n"
     ]
    }
   ],
   "source": [
    "#Lambda Function\n",
    "f=lambda x:x**3\n",
    "print(f(3))\n"
   ]
  },
  {
   "cell_type": "code",
   "execution_count": 258,
   "id": "7f5a33b4",
   "metadata": {},
   "outputs": [
    {
     "name": "stdout",
     "output_type": "stream",
     "text": [
      "No\n",
      "Yes\n"
     ]
    }
   ],
   "source": [
    "#yes if even else no\n",
    "\n",
    "l=lambda x: 'Yes' if x%2==0 else 'No'\n",
    "print(l(7))\n",
    "print(l(10))"
   ]
  },
  {
   "cell_type": "code",
   "execution_count": 259,
   "id": "602e0922",
   "metadata": {},
   "outputs": [
    {
     "name": "stdout",
     "output_type": "stream",
     "text": [
      "30\n"
     ]
    }
   ],
   "source": [
    "sum =lambda x,y: (x+y)\n",
    "print(sum(10,20))"
   ]
  },
  {
   "cell_type": "code",
   "execution_count": 263,
   "id": "7c27fff4",
   "metadata": {},
   "outputs": [
    {
     "name": "stdout",
     "output_type": "stream",
     "text": [
      "[10, 12, 2]\n"
     ]
    }
   ],
   "source": [
    "#Filter function\n",
    "#Printing even numbers from a list\n",
    "\n",
    "lst=[10,7,9,12,2,5]\n",
    "\n",
    "s=list(filter(lambda x:x%2==0,lst))\n",
    "print(s)"
   ]
  },
  {
   "cell_type": "code",
   "execution_count": 264,
   "id": "658c8176",
   "metadata": {},
   "outputs": [
    {
     "name": "stdout",
     "output_type": "stream",
     "text": [
      "[4, 6, 8, 10]\n"
     ]
    }
   ],
   "source": [
    "#Map function\n",
    "#Doubling the elements of list\n",
    "\n",
    "lst=[2,3,4,5]\n",
    "\n",
    "s=list(map(lambda x:x*2,lst))\n",
    "print(s)"
   ]
  },
  {
   "cell_type": "code",
   "execution_count": 268,
   "id": "f0f06a42",
   "metadata": {},
   "outputs": [
    {
     "name": "stdout",
     "output_type": "stream",
     "text": [
      "50\n"
     ]
    }
   ],
   "source": [
    "#Using Reduce function\n",
    "#Sum of elements of list\n",
    "from functools import reduce\n",
    "lst=[5,10,15,20]\n",
    "s=reduce(lambda x,y:x+y,lst)\n",
    "print(s)"
   ]
  },
  {
   "cell_type": "code",
   "execution_count": 285,
   "id": "b0fcb393",
   "metadata": {},
   "outputs": [
    {
     "name": "stdout",
     "output_type": "stream",
     "text": [
      "entered function\n",
      "entrerd decor 5\n",
      "entered function\n",
      "10\n"
     ]
    }
   ],
   "source": [
    "#Decorator\n",
    "#Doubles a number returned by a function\n",
    "\n",
    "def decor(fun):\n",
    "    print(\"entrerd decor\",fun())\n",
    "    def inner():\n",
    "        res=fun()\n",
    "        return res*2\n",
    "    return inner\n",
    "\n",
    "def num():\n",
    "    print(\"entered function\")\n",
    "    return 5\n",
    "\n",
    "resfun=decor(num)\n",
    "print(resfun())"
   ]
  },
  {
   "cell_type": "code",
   "execution_count": 286,
   "id": "a973f1f4",
   "metadata": {},
   "outputs": [
    {
     "name": "stdout",
     "output_type": "stream",
     "text": [
      "10\n"
     ]
    }
   ],
   "source": [
    "#using @decorator\n",
    "\n",
    "def decor(fun):\n",
    "    def inner():\n",
    "        res=fun()\n",
    "        return res*2\n",
    "    return inner\n",
    "\n",
    "@decor\n",
    "def num():\n",
    "    return 5\n",
    "\n",
    "print(num())"
   ]
  },
  {
   "cell_type": "code",
   "execution_count": 292,
   "id": "ceebf812",
   "metadata": {},
   "outputs": [
    {
     "name": "stdout",
     "output_type": "stream",
     "text": [
      "Hello John How are you?\n"
     ]
    }
   ],
   "source": [
    "#decorating strings\n",
    "\n",
    "def decorfun(fun):\n",
    "    def inner(n):\n",
    "        res=fun(n)\n",
    "        res +=\" How are you?\"\n",
    "        return res\n",
    "        \n",
    "    return inner\n",
    "\n",
    "@decorfun\n",
    "def hello(name):\n",
    "    return \"Hello \"+name\n",
    "\n",
    "print(hello(\"John\"))"
   ]
  },
  {
   "cell_type": "code",
   "execution_count": 295,
   "id": "be0a8e7f",
   "metadata": {},
   "outputs": [
    {
     "name": "stdout",
     "output_type": "stream",
     "text": [
      "['False', 'None', 'True', '__peg_parser__', 'and', 'as', 'assert', 'async', 'await', 'break', 'class', 'continue', 'def', 'del', 'elif', 'else', 'except', 'finally', 'for', 'from', 'global', 'if', 'import', 'in', 'is', 'lambda', 'nonlocal', 'not', 'or', 'pass', 'raise', 'return', 'try', 'while', 'with', 'yield']\n"
     ]
    }
   ],
   "source": [
    "import keyword \n",
    "\n",
    "print(keyword.kwlist)"
   ]
  },
  {
   "cell_type": "code",
   "execution_count": 299,
   "id": "9abb3c3c",
   "metadata": {},
   "outputs": [
    {
     "name": "stdout",
     "output_type": "stream",
     "text": [
      "3.0\n",
      "7\n",
      "8\n",
      "2.2\n",
      "['__add__', '__class__', '__contains__', '__delattr__', '__dir__', '__doc__', '__eq__', '__format__', '__ge__', '__getattribute__', '__getitem__', '__getnewargs__', '__gt__', '__hash__', '__init__', '__init_subclass__', '__iter__', '__le__', '__len__', '__lt__', '__mod__', '__mul__', '__ne__', '__new__', '__reduce__', '__reduce_ex__', '__repr__', '__rmod__', '__rmul__', '__setattr__', '__sizeof__', '__str__', '__subclasshook__', 'capitalize', 'casefold', 'center', 'count', 'encode', 'endswith', 'expandtabs', 'find', 'format', 'format_map', 'index', 'isalnum', 'isalpha', 'isascii', 'isdecimal', 'isdigit', 'isidentifier', 'islower', 'isnumeric', 'isprintable', 'isspace', 'istitle', 'isupper', 'join', 'ljust', 'lower', 'lstrip', 'maketrans', 'partition', 'removeprefix', 'removesuffix', 'replace', 'rfind', 'rindex', 'rjust', 'rpartition', 'rsplit', 'rstrip', 'split', 'splitlines', 'startswith', 'strip', 'swapcase', 'title', 'translate', 'upper', 'zfill']\n"
     ]
    }
   ],
   "source": [
    "from math import *\n",
    "\n",
    "print(sqrt(9))\n",
    "print(floor(7.9))\n",
    "print(ceil(7.2))\n",
    "print(fabs(-2.2))\n",
    "\n",
    "print(dir('math'))"
   ]
  },
  {
   "cell_type": "code",
   "execution_count": 303,
   "id": "bab372e5",
   "metadata": {},
   "outputs": [
    {
     "name": "stdout",
     "output_type": "stream",
     "text": [
      "21\n",
      "48\n",
      "41\n",
      "12\n",
      "13\n",
      "39\n",
      "48\n",
      "19\n",
      "18\n",
      "25\n"
     ]
    }
   ],
   "source": [
    "from random import *\n",
    "\n",
    "# for i in range(10):\n",
    "#     print(random())\n",
    "\n",
    "for i in range(10):\n",
    "    print(randint(1,50))"
   ]
  },
  {
   "cell_type": "code",
   "execution_count": 308,
   "id": "5d561e84",
   "metadata": {},
   "outputs": [
    {
     "name": "stdout",
     "output_type": "stream",
     "text": [
      "js\n"
     ]
    }
   ],
   "source": [
    "from random import *\n",
    "lst=[\"java\",\"python\",\"js\",\"web\"]\n",
    "for i in range(1):\n",
    "    print(choice(lst))"
   ]
  },
  {
   "cell_type": "code",
   "execution_count": 339,
   "id": "fb2ad96c",
   "metadata": {},
   "outputs": [
    {
     "name": "stdout",
     "output_type": "stream",
     "text": [
      "d\n"
     ]
    }
   ],
   "source": [
    "#1st unique character in a string\n",
    "str1=\"adarsh\"\n",
    "for i in str1:\n",
    "#     print(i,str1.count(i))\n",
    "    if str1.count(i)==1:\n",
    "        print(i)\n",
    "        break\n"
   ]
  },
  {
   "cell_type": "code",
   "execution_count": 341,
   "id": "204cb955",
   "metadata": {},
   "outputs": [
    {
     "name": "stdout",
     "output_type": "stream",
     "text": [
      "[1, 8, 27, 64, 125, 216, 343, 512, 729, 1000]\n"
     ]
    }
   ],
   "source": [
    "#cube of numbers in list\n",
    "\n",
    "'''lst=[]\n",
    "for x in range(1,11):\n",
    "    lst.append(x**3)\n",
    "print(lst)'''\n",
    "\n",
    "#Using list comprehension\n",
    "lst=[]\n",
    "lst=[x**3 for x in range(1,11)]\n",
    "print(lst)"
   ]
  },
  {
   "cell_type": "code",
   "execution_count": 345,
   "id": "2f0ae1ab",
   "metadata": {},
   "outputs": [
    {
     "name": "stdout",
     "output_type": "stream",
     "text": [
      "[2, 4, 6, 8, 10, 12, 14, 16, 18, 20]\n"
     ]
    }
   ],
   "source": [
    "#even numbers in list b/w 1 and 20\n",
    "'''\n",
    "lst=[x for x in range(2,21,2)]\n",
    "print(lst)'''\n",
    "\n",
    "lst=[x for x in range(1,21) if x%2==0]\n",
    "print(lst)"
   ]
  },
  {
   "cell_type": "code",
   "execution_count": 348,
   "id": "76176db3",
   "metadata": {},
   "outputs": [
    {
     "name": "stdout",
     "output_type": "stream",
     "text": [
      "[12, 21, 32, 45, 60]\n"
     ]
    }
   ],
   "source": [
    "#Product of numbers in a list\n",
    "a=[2,3,4,5,6]\n",
    "b=[6,7,8,9,10]\n",
    "z=[]\n",
    "'''\n",
    "for x in range(len(a)):\n",
    "    z.append(a[x]*b[x])\n",
    "print(z)\n",
    "'''\n",
    "\n",
    "#Using list comprehension\n",
    "z=[a[i]*b[i] for i in range(len(a))]\n",
    "print(z)\n",
    "\n",
    "\n",
    "\n",
    "\n"
   ]
  },
  {
   "cell_type": "code",
   "execution_count": 350,
   "id": "1741f13b",
   "metadata": {},
   "outputs": [
    {
     "name": "stdout",
     "output_type": "stream",
     "text": [
      "[2, 4]\n"
     ]
    }
   ],
   "source": [
    "#Common elements in list\n",
    "\n",
    "a=[1,2,3,4]\n",
    "b=[2,4,5,6]\n",
    "c=[]\n",
    "\n",
    "\"\"\"for i in a:\n",
    "    if i in b:\n",
    "        c.append(i)\n",
    "print(c)\"\"\"\n",
    "\n",
    "c=[i for i in a if i in b]\n",
    "print(c)"
   ]
  },
  {
   "cell_type": "code",
   "execution_count": 352,
   "id": "521b4093",
   "metadata": {},
   "outputs": [
    {
     "name": "stdout",
     "output_type": "stream",
     "text": [
      "IPhone\n",
      "Its Awesome\n",
      "10000\n",
      "IPhone\n",
      "Its Awesome\n",
      "10000\n"
     ]
    }
   ],
   "source": [
    "#Create class\n",
    "class Product:\n",
    "    def __init__(self):\n",
    "        self.name=\"IPhone\"\n",
    "        self.description=\"Its Awesome\"\n",
    "        self.price=10000\n",
    "p1=Product()\n",
    "print(p1.name)\n",
    "print(p1.description)\n",
    "print(p1.price)\n",
    "\n",
    "p2=Product()\n",
    "print(p2.name)\n",
    "print(p2.description)\n",
    "print(p2.price)"
   ]
  },
  {
   "cell_type": "code",
   "execution_count": 354,
   "id": "6769a3f9",
   "metadata": {},
   "outputs": [
    {
     "name": "stdout",
     "output_type": "stream",
     "text": [
      "Java\n",
      "[1, 2, 3, 4, 5]\n",
      "java web services\n",
      "[5, 5, 5, 5, 5]\n"
     ]
    }
   ],
   "source": [
    "#Parameterized constructor\n",
    "class Course:\n",
    "    \n",
    "    def __init__(self,name,ratings):\n",
    "        self.name=name\n",
    "        self.ratings=ratings\n",
    "        \n",
    "c1=Course(\"Java\",[1,2,3,4,5])\n",
    "print(c1.name)\n",
    "print(c1.ratings)\n",
    "\n",
    "c2=Course(\"java web services\",[5,5,5,5,5])\n",
    "print(c2.name)\n",
    "print(c2.ratings)"
   ]
  },
  {
   "cell_type": "code",
   "execution_count": 373,
   "id": "2e9b9616",
   "metadata": {},
   "outputs": [
    {
     "name": "stdout",
     "output_type": "stream",
     "text": [
      "[1, 2, 3, 4, 5]\n",
      "15\n",
      "3.0\n"
     ]
    }
   ],
   "source": [
    "#Defining Instance method\n",
    "class Course:\n",
    "    \n",
    "    def __init__(self,name,ratings):\n",
    "        self.name=name\n",
    "        self.ratings=ratings\n",
    "    def sum_of_ratings(self,ratings):\n",
    "        #print(ratings)\n",
    "        self.ratings=ratings\n",
    "        sum=0\n",
    "        for i in range(0,len(ratings)):\n",
    "            sum += ratings[i]\n",
    "            #print(sum)\n",
    "        return sum\n",
    "#       \n",
    "    def average(self):\n",
    "        number_of_ratings=len(self.ratings)\n",
    "        sum  = self.sum_of_ratings(self.ratings)\n",
    "        print(sum)\n",
    "        avg= sum/number_of_ratings\n",
    "        print(avg)\n",
    "\n",
    "c1=Course(\"Java\",[1,2,3,4,5])\n",
    "c1.average()"
   ]
  },
  {
   "cell_type": "code",
   "execution_count": 376,
   "id": "edad2939",
   "metadata": {},
   "outputs": [
    {
     "name": "stdout",
     "output_type": "stream",
     "text": [
      "Adarsh\n",
      "100\n",
      "['Java', 'Python']\n"
     ]
    }
   ],
   "source": [
    "#Getter and setter\n",
    "\n",
    "class programmer:\n",
    "    def setname(self,n):\n",
    "        self.name=n\n",
    "    def getname(self):\n",
    "        return self.name\n",
    "    \n",
    "    def setsalary(self,s):\n",
    "        self.salary=s\n",
    "    def getsalary(self):\n",
    "        return self.salary\n",
    "    \n",
    "    def settech(self,t):\n",
    "        self.tech=t\n",
    "    def gettech(self):\n",
    "        return self.tech\n",
    "\n",
    "p1=programmer()\n",
    "p1.setname(\"Adarsh\")\n",
    "p1.setsalary(100)\n",
    "p1.settech([\"Java\",\"Python\"])\n",
    "\n",
    "print(p1.getname())\n",
    "print(p1.getsalary())\n",
    "print(p1.gettech())"
   ]
  },
  {
   "cell_type": "code",
   "execution_count": 377,
   "id": "c5779013",
   "metadata": {},
   "outputs": [
    {
     "name": "stdout",
     "output_type": "stream",
     "text": [
      "IPhone\n",
      "Its Awesome\n",
      "10000\n",
      "IPhone\n",
      "Its Awesome\n",
      "10000\n"
     ]
    }
   ],
   "source": [
    "#Define Instance Methods\n",
    "class Product:\n",
    "    def __init__(self):\n",
    "        self.name=\"IPhone\"\n",
    "        self.description=\"Its Awesome\"\n",
    "        self.price=10000\n",
    "        \n",
    "    def display(self):\n",
    "        print(self.name)\n",
    "        print(self.description)\n",
    "        print(self.price)\n",
    "\n",
    "        \n",
    "p1=Product()\n",
    "p1.display()\n",
    "\n",
    "p2=Product()\n",
    "p2.display()"
   ]
  },
  {
   "cell_type": "code",
   "execution_count": 381,
   "id": "52d00d6d",
   "metadata": {},
   "outputs": [
    {
     "name": "stdout",
     "output_type": "stream",
     "text": [
      "2\n"
     ]
    }
   ],
   "source": [
    "#no_of_objects\n",
    "\n",
    "class objc:\n",
    "    objcount=0\n",
    "    \n",
    "    def __init__(self):\n",
    "        objc.objcount+=1\n",
    "    \n",
    "    @staticmethod\n",
    "    def display():\n",
    "        print(objc.objcount)\n",
    "        \n",
    "ob1=objc()\n",
    "ob2=objc()\n",
    "objc.display()"
   ]
  },
  {
   "cell_type": "code",
   "execution_count": 362,
   "id": "6749fbf5",
   "metadata": {},
   "outputs": [
    {
     "name": "stdout",
     "output_type": "stream",
     "text": [
      "15\n"
     ]
    }
   ],
   "source": [
    "#Sum of elements of list\n",
    "lst=[1,2,3,4,5]\n",
    "sum=0\n",
    "for i in range(0,len(lst)):\n",
    "    sum+=lst[i]\n",
    "print(sum)\n",
    "    "
   ]
  },
  {
   "cell_type": "code",
   "execution_count": 382,
   "id": "9a5d4040",
   "metadata": {},
   "outputs": [
    {
     "name": "stdout",
     "output_type": "stream",
     "text": [
      "Engine started\n"
     ]
    }
   ],
   "source": [
    "#Inner class\n",
    "\n",
    "class car:\n",
    "    \n",
    "    def __init__(self,make,year):\n",
    "        self.make=make\n",
    "        self.year=year\n",
    "    \n",
    "    class engine:\n",
    "        def __init__(self,num):\n",
    "            self.number=num\n",
    "        def start(self):\n",
    "            print(\"Engine started\")\n",
    "c=car(\"BMW\",2019)\n",
    "e=c.engine(123)\n",
    "e.start()"
   ]
  },
  {
   "cell_type": "code",
   "execution_count": 386,
   "id": "e8697b47",
   "metadata": {},
   "outputs": [
    {
     "name": "stdout",
     "output_type": "stream",
     "text": [
      "1\n",
      "Adarsh\n",
      "1\n"
     ]
    }
   ],
   "source": [
    "#Encapsulation\n",
    "#Private fields can only be accessed by private methods\n",
    "\n",
    "\n",
    "class student:\n",
    "    def __init__(self):\n",
    "        self.__id=1                   #private field \n",
    "        self.__name=\"Adarsh\"          #private field\n",
    "        \n",
    "    def display(self):\n",
    "        print(self.__id)\n",
    "        print(self.__name)\n",
    "\n",
    "s1=student()\n",
    "# print(s1.id)\n",
    "# print(s1.name)\n",
    "s1.display()\n",
    "\n",
    "\n",
    "#also access it by(Name mangling)\n",
    "#print(s1._student__id)     #object._classname__field"
   ]
  },
  {
   "cell_type": "code",
   "execution_count": 388,
   "id": "0f3889bd",
   "metadata": {},
   "outputs": [
    {
     "name": "stdout",
     "output_type": "stream",
     "text": [
      "True\n",
      "BMW\n",
      "328i\n",
      "2019\n"
     ]
    }
   ],
   "source": [
    "#Inheritance\n",
    "\n",
    "class BMW:\n",
    "    def __init__(self,make,model,year):\n",
    "        self.make=make\n",
    "        self.model=model\n",
    "        self.year=year\n",
    "\n",
    "class ThreeSeries(BMW):\n",
    "    def __init__(self,CruiseControlEnabled,make,model,year):\n",
    "        BMW.__init__(self,make,model,year)\n",
    "        self.CruiseControlEnabled=CruiseControlEnabled\n",
    "class FiveSeries(BMW):\n",
    "    def __init__(self,ParkAssistEnabled,make,model,year):\n",
    "        BMW.__init__(self,make,model,year)\n",
    "        self.ParkAssistEnabled=ParkAssistEnabled\n",
    "\n",
    "threeseries=ThreeSeries(True,\"BMW\",\"328i\",2019)\n",
    "print(threeseries.CruiseControlEnabled)\n",
    "print(threeseries.make)\n",
    "print(threeseries.model)\n",
    "print(threeseries.year)\n",
    "    "
   ]
  },
  {
   "cell_type": "code",
   "execution_count": 389,
   "id": "ea77a32f",
   "metadata": {},
   "outputs": [
    {
     "name": "stdout",
     "output_type": "stream",
     "text": [
      "True\n",
      "BMW\n",
      "328i\n",
      "2019\n",
      "Starting the car\n",
      "Stopping the car\n",
      "True\n",
      "True\n"
     ]
    }
   ],
   "source": [
    "#Inheritance\n",
    "class BMW:\n",
    "    def __init__(self,make,model,year):\n",
    "        self.make=make\n",
    "        self.model=model\n",
    "        self.year=year\n",
    "\n",
    "    def start(self):\n",
    "        print(\"Starting the car\")\n",
    "    \n",
    "    def stop(self):\n",
    "        print(\"Stopping the car\")\n",
    "\n",
    "class threeseries(BMW):\n",
    "    def __init__(self,cruisecontrolenabled,make, model, year):\n",
    "        BMW.__init__(self,make, model, year) \n",
    "        self.cruisecontrolenabled=cruisecontrolenabled\n",
    "    \n",
    "    def display(self):\n",
    "        print(self.cruisecontrolenabled)\n",
    "\n",
    "class fiveseries(BMW):\n",
    "    def __init__(self,parkassistenabled, make, model, year):\n",
    "        BMW.__init__(self,make, model, year)\n",
    "        self.parkassistenabled=parkassistenabled\n",
    "\n",
    "    def display(self):\n",
    "        print(self.parkassistenabled)\n",
    "\n",
    "threeseriesobj=threeseries(True,\"BMW\",\"328i\",2019)\n",
    "print(threeseriesobj.cruisecontrolenabled)\n",
    "print(threeseriesobj.make)\n",
    "print(threeseriesobj.model)\n",
    "print(threeseriesobj.year)\n",
    "\n",
    "threeseriesobj.start()\n",
    "threeseriesobj.stop()\n",
    "threeseriesobj.display()\n",
    "\n",
    "fiveseriesobj=fiveseries(True,\"BMW\",\"535d\",2021)\n",
    "fiveseriesobj.display()\n"
   ]
  },
  {
   "cell_type": "code",
   "execution_count": 390,
   "id": "34d2fcb7",
   "metadata": {},
   "outputs": [
    {
     "name": "stdout",
     "output_type": "stream",
     "text": [
      "True\n",
      "BMW\n",
      "328i\n",
      "2019\n",
      "Button start\n",
      "True\n"
     ]
    }
   ],
   "source": [
    "#overriding in inheritance\n",
    "\n",
    "class BMW:\n",
    "    def __init__(self,make,model,year):\n",
    "        self.make=make\n",
    "        self.model=model\n",
    "        self.year=year\n",
    "\n",
    "    def start(self):\n",
    "        print(\"Starting the car\")\n",
    "        \n",
    "class threeseries(BMW):\n",
    "    def __init__(self,cruisecontrolenabled,make, model, year):\n",
    "        BMW.__init__(self,make, model, year) \n",
    "        self.cruisecontrolenabled=cruisecontrolenabled\n",
    "    \n",
    "    def display(self):\n",
    "        print(self.cruisecontrolenabled)\n",
    "        \n",
    "    #Overriding is done here\n",
    "    def start(self):\n",
    "        print(\"Button start\")\n",
    "        \n",
    "\n",
    "class fiveseries(BMW):\n",
    "    def __init__(self,parkassistenabled, make, model, year):\n",
    "        BMW.__init__(self,make, model, year)\n",
    "        self.parkassistenabled=parkassistenabled\n",
    "        \n",
    "threeseriesobj=threeseries(True,\"BMW\",\"328i\",2019)\n",
    "print(threeseriesobj.cruisecontrolenabled)\n",
    "print(threeseriesobj.make)\n",
    "print(threeseriesobj.model)\n",
    "print(threeseriesobj.year)\n",
    "\n",
    "threeseriesobj.start()\n",
    "threeseriesobj.display()\n"
   ]
  },
  {
   "cell_type": "code",
   "execution_count": 391,
   "id": "9319fa49",
   "metadata": {},
   "outputs": [
    {
     "name": "stdout",
     "output_type": "stream",
     "text": [
      "True\n",
      "BMW\n",
      "328i\n",
      "2019\n",
      "Starting the car\n",
      "Button start\n",
      "True\n"
     ]
    }
   ],
   "source": [
    "#Using super()\n",
    "\n",
    "class BMW:\n",
    "    def __init__(self,make,model,year):\n",
    "        self.make=make\n",
    "        self.model=model\n",
    "        self.year=year\n",
    "\n",
    "    def start(self):\n",
    "        print(\"Starting the car\")\n",
    "        \n",
    "class threeseries(BMW):\n",
    "    def __init__(self,cruisecontrolenabled,make, model, year):\n",
    "        super().__init__(make, model, year) \n",
    "        self.cruisecontrolenabled=cruisecontrolenabled\n",
    "    \n",
    "    def display(self):\n",
    "        print(self.cruisecontrolenabled)\n",
    "        \n",
    "    #Overriding is done here\n",
    "    def start(self):\n",
    "        super().start()\n",
    "        print(\"Button start\")\n",
    "        \n",
    "\n",
    "class fiveseries(BMW):\n",
    "    def __init__(self,parkassistenabled, make, model, year):\n",
    "        super().__init__(self,make, model, year)\n",
    "        self.parkassistenabled=parkassistenabled\n",
    "        \n",
    "threeseriesobj=threeseries(True,\"BMW\",\"328i\",2019)\n",
    "print(threeseriesobj.cruisecontrolenabled)\n",
    "print(threeseriesobj.make)\n",
    "print(threeseriesobj.model)\n",
    "print(threeseriesobj.year)\n",
    "\n",
    "threeseriesobj.start()\n",
    "threeseriesobj.display()\n",
    "\n"
   ]
  },
  {
   "cell_type": "code",
   "execution_count": 392,
   "id": "ca337025",
   "metadata": {},
   "outputs": [
    {
     "name": "stdout",
     "output_type": "stream",
     "text": [
      "Quack Quack\n",
      "Hello\n"
     ]
    }
   ],
   "source": [
    "#Polymorphism\n",
    "\n",
    "#Duck Typing\n",
    "\n",
    "class Duck:\n",
    "    def talk(self):\n",
    "        print(\"Quack Quack\")\n",
    "\n",
    "class Human:\n",
    "    def talk(self):\n",
    "        print(\"Hello\")\n",
    "\n",
    "def callTalk(obj):\n",
    "    obj.talk()\n",
    "\n",
    "d=Duck()\n",
    "callTalk(d)\n",
    "\n",
    "h=Human()\n",
    "callTalk(h)"
   ]
  },
  {
   "cell_type": "code",
   "execution_count": 393,
   "id": "7c538380",
   "metadata": {},
   "outputs": [
    {
     "name": "stdout",
     "output_type": "stream",
     "text": [
      "Airbus Engine Started\n",
      "BoingEngine started\n"
     ]
    }
   ],
   "source": [
    "#Dependency_injection(polymorphism)\n",
    "\n",
    "class Flight:\n",
    "    def __init__(self,engine):\n",
    "        self.engine=engine\n",
    "    \n",
    "    def startEngine(self):\n",
    "        self.engine.start()\n",
    "\n",
    "class AirBus:\n",
    "    def start(self):\n",
    "        print(\"Airbus Engine Started\")\n",
    "\n",
    "class Boing:\n",
    "    def start(self):\n",
    "        print(\"BoingEngine started\")\n",
    "\n",
    "ae=AirBus()\n",
    "f1=Flight(ae)\n",
    "f1.startEngine()\n",
    "\n",
    "be=Boing()\n",
    "f2=Flight(be)\n",
    "f2.startEngine()"
   ]
  },
  {
   "cell_type": "code",
   "execution_count": 394,
   "id": "76e06183",
   "metadata": {},
   "outputs": [
    {
     "name": "stdout",
     "output_type": "stream",
     "text": [
      "30\n",
      "Hello,How are you?\n",
      "[1, 2, 3, 4, 5, 6]\n"
     ]
    }
   ],
   "source": [
    "#Polymorphism(Operator Overloading)\n",
    "\n",
    "x=20\n",
    "y=10\n",
    "print(x+y)\n",
    "\n",
    "s1=\"Hello\"\n",
    "s2=\",How are you?\"\n",
    "print(s1+s2)\n",
    "\n",
    "l1=[1,2,3]\n",
    "l2=[4,5,6]\n",
    "print(l1+l2)"
   ]
  },
  {
   "cell_type": "code",
   "execution_count": 395,
   "id": "8c45fd57",
   "metadata": {},
   "outputs": [
    {
     "name": "stdout",
     "output_type": "stream",
     "text": [
      "True\n",
      "BMW\n",
      "328i\n",
      "2019\n",
      "Starting the car\n",
      "Stopping the car\n",
      "True\n",
      "True\n"
     ]
    }
   ],
   "source": [
    "#Create an abstract class\n",
    "\n",
    "from abc import abstractmethod,ABC\n",
    "\n",
    "class BMW(ABC):\n",
    "    def __init__(self,make,model,year):\n",
    "        self.make=make\n",
    "        self.model=model\n",
    "        self.year=year\n",
    "\n",
    "    def start(self):\n",
    "        print(\"Starting the car\")\n",
    "    \n",
    "    def stop(self):\n",
    "        print(\"Stopping the car\")\n",
    "\n",
    "    @abstractmethod\n",
    "    def drive(self):\n",
    "        pass\n",
    "\n",
    "class threeseries(BMW):\n",
    "    def __init__(self,cruisecontrolenabled,make, model, year):\n",
    "        BMW.__init__(self,make, model, year) \n",
    "        self.cruisecontrolenabled=cruisecontrolenabled\n",
    "    \n",
    "    def display(self):\n",
    "        print(self.cruisecontrolenabled)\n",
    "\n",
    "    def drive(self):\n",
    "        print(\"ThreeSeries is driven\")\n",
    "\n",
    "class fiveseries(BMW):\n",
    "    def __init__(self,parkassistenabled, make, model, year):\n",
    "        BMW.__init__(self,make, model, year)\n",
    "        self.parkassistenabled=parkassistenabled\n",
    "\n",
    "    def display(self):\n",
    "        print(self.parkassistenabled)\n",
    "    \n",
    "    def drive(self):\n",
    "        print(\"FiveSeries is driven\")\n",
    "\n",
    "\n",
    "threeseriesobj=threeseries(True,\"BMW\",\"328i\",2019)\n",
    "print(threeseriesobj.cruisecontrolenabled)\n",
    "print(threeseriesobj.make)\n",
    "print(threeseriesobj.model)\n",
    "print(threeseriesobj.year)\n",
    "\n",
    "threeseriesobj.start()\n",
    "threeseriesobj.stop()\n",
    "threeseriesobj.display()\n",
    "\n",
    "fiveseriesobj=fiveseries(True,\"BMW\",\"535d\",2021)\n",
    "fiveseriesobj.display()\n"
   ]
  },
  {
   "cell_type": "code",
   "execution_count": 397,
   "id": "6992df67",
   "metadata": {},
   "outputs": [
    {
     "name": "stdout",
     "output_type": "stream",
     "text": [
      "True\n",
      "BMW\n",
      "328i\n",
      "2019\n",
      "Started car\n",
      "Car stopped\n",
      "True\n",
      "True\n"
     ]
    }
   ],
   "source": [
    "#interface\n",
    "#when all methods of class are abstract\n",
    "\n",
    "from abc import abstractmethod,ABC\n",
    "\n",
    "class BMW(ABC):\n",
    "    def __init__(self,make,model,year):\n",
    "        self.make=make\n",
    "        self.model=model\n",
    "        self.year=year\n",
    "    @abstractmethod\n",
    "    def start(self):\n",
    "        pass\n",
    "    @abstractmethod\n",
    "    def stop(self):\n",
    "        pass\n",
    "\n",
    "    @abstractmethod\n",
    "    def drive(self):\n",
    "        pass\n",
    "\n",
    "class threeseries(BMW):\n",
    "    def __init__(self,cruisecontrolenabled,make, model, year):\n",
    "        BMW.__init__(self,make, model, year) \n",
    "        self.cruisecontrolenabled=cruisecontrolenabled\n",
    "    \n",
    "    def display(self):\n",
    "        print(self.cruisecontrolenabled)\n",
    "    \n",
    "    def start(self):\n",
    "        print(\"Started car\")\n",
    "\n",
    "    def drive(self):\n",
    "        print(\"ThreeSeries is driven\")\n",
    "\n",
    "    def stop(self):\n",
    "        print(\"Car stopped\")\n",
    "\n",
    "class fiveseries(BMW):\n",
    "    def __init__(self,parkassistenabled, make, model, year):\n",
    "        BMW.__init__(self,make, model, year)\n",
    "        self.parkassistenabled=parkassistenabled\n",
    "\n",
    "    def display(self):\n",
    "        print(self.parkassistenabled)\n",
    "    \n",
    "    def drive(self):\n",
    "        print(\"FiveSeries is driven\")\n",
    "\n",
    "    def start(self):\n",
    "        print(\"Started car\")\n",
    "\n",
    "    def stop(self):\n",
    "        print(\"Car stopped\")\n",
    "        \n",
    "threeseriesobj=threeseries(True,\"BMW\",\"328i\",2019)\n",
    "print(threeseriesobj.cruisecontrolenabled)\n",
    "print(threeseriesobj.make)\n",
    "print(threeseriesobj.model)\n",
    "print(threeseriesobj.year)\n",
    "\n",
    "threeseriesobj.start()\n",
    "threeseriesobj.stop()\n",
    "threeseriesobj.display()\n",
    "\n",
    "fiveseriesobj=fiveseries(True,\"BMW\",\"535d\",2021)\n",
    "fiveseriesobj.display()\n"
   ]
  },
  {
   "cell_type": "code",
   "execution_count": 399,
   "id": "97502b4a",
   "metadata": {},
   "outputs": [
    {
     "name": "stdout",
     "output_type": "stream",
     "text": [
      "Enter two numbers:4 0\n",
      "division by zero not allowed\n",
      "Please enter non zero num\n",
      "Code after exception\n"
     ]
    }
   ],
   "source": [
    "#Exception handling\n",
    "\n",
    "try:\n",
    "    a,b=[int(x) for x in input(\"Enter two numbers:\").split()]\n",
    "    c=a/b\n",
    "    print(c)\n",
    "    \n",
    "except ZeroDivisionError:\n",
    "    print(\"division by zero not allowed\")\n",
    "    print(\"Please enter non zero num\")\n",
    "print(\"Code after exception\")\n",
    "    \n"
   ]
  },
  {
   "cell_type": "code",
   "execution_count": 400,
   "id": "43be39e7",
   "metadata": {},
   "outputs": [
    {
     "ename": "OverTheLimit",
     "evalue": "You cannot withdraw more than 500$",
     "output_type": "error",
     "traceback": [
      "\u001b[1;31m---------------------------------------------------------------------------\u001b[0m",
      "\u001b[1;31mOverTheLimit\u001b[0m                              Traceback (most recent call last)",
      "\u001b[1;32m~\\AppData\\Local\\Temp\\ipykernel_5616\\3899097387.py\u001b[0m in \u001b[0;36m<module>\u001b[1;34m\u001b[0m\n\u001b[0;32m      9\u001b[0m         \u001b[1;32mraise\u001b[0m \u001b[0mOverTheLimit\u001b[0m\u001b[1;33m(\u001b[0m\u001b[1;34m\"You cannot withdraw more than 500$\"\u001b[0m\u001b[1;33m)\u001b[0m\u001b[1;33m\u001b[0m\u001b[1;33m\u001b[0m\u001b[0m\n\u001b[0;32m     10\u001b[0m \u001b[1;33m\u001b[0m\u001b[0m\n\u001b[1;32m---> 11\u001b[1;33m \u001b[0mwithdrawl\u001b[0m\u001b[1;33m(\u001b[0m\u001b[1;36m600\u001b[0m\u001b[1;33m)\u001b[0m\u001b[1;33m\u001b[0m\u001b[1;33m\u001b[0m\u001b[0m\n\u001b[0m\u001b[0;32m     12\u001b[0m \u001b[1;33m\u001b[0m\u001b[0m\n",
      "\u001b[1;32m~\\AppData\\Local\\Temp\\ipykernel_5616\\3899097387.py\u001b[0m in \u001b[0;36mwithdrawl\u001b[1;34m(amount)\u001b[0m\n\u001b[0;32m      7\u001b[0m \u001b[1;32mdef\u001b[0m \u001b[0mwithdrawl\u001b[0m\u001b[1;33m(\u001b[0m\u001b[0mamount\u001b[0m\u001b[1;33m)\u001b[0m\u001b[1;33m:\u001b[0m\u001b[1;33m\u001b[0m\u001b[1;33m\u001b[0m\u001b[0m\n\u001b[0;32m      8\u001b[0m     \u001b[1;32mif\u001b[0m \u001b[0mamount\u001b[0m\u001b[1;33m>\u001b[0m\u001b[1;36m500\u001b[0m\u001b[1;33m:\u001b[0m\u001b[1;33m\u001b[0m\u001b[1;33m\u001b[0m\u001b[0m\n\u001b[1;32m----> 9\u001b[1;33m         \u001b[1;32mraise\u001b[0m \u001b[0mOverTheLimit\u001b[0m\u001b[1;33m(\u001b[0m\u001b[1;34m\"You cannot withdraw more than 500$\"\u001b[0m\u001b[1;33m)\u001b[0m\u001b[1;33m\u001b[0m\u001b[1;33m\u001b[0m\u001b[0m\n\u001b[0m\u001b[0;32m     10\u001b[0m \u001b[1;33m\u001b[0m\u001b[0m\n\u001b[0;32m     11\u001b[0m \u001b[0mwithdrawl\u001b[0m\u001b[1;33m(\u001b[0m\u001b[1;36m600\u001b[0m\u001b[1;33m)\u001b[0m\u001b[1;33m\u001b[0m\u001b[1;33m\u001b[0m\u001b[0m\n",
      "\u001b[1;31mOverTheLimit\u001b[0m: You cannot withdraw more than 500$"
     ]
    }
   ],
   "source": [
    "#Custom Exception\n",
    "\n",
    "class OverTheLimit(Exception):\n",
    "    def __init__(self,msg):\n",
    "        self.msg=msg\n",
    "    \n",
    "def withdrawl(amount):\n",
    "    if amount>500:\n",
    "        raise OverTheLimit(\"You cannot withdraw more than 500$\")\n",
    "\n",
    "withdrawl(600)\n",
    "\n"
   ]
  },
  {
   "cell_type": "code",
   "execution_count": 402,
   "id": "80dd8f87",
   "metadata": {},
   "outputs": [
    {
     "name": "stdout",
     "output_type": "stream",
     "text": [
      "Enter the age: 61\n"
     ]
    },
    {
     "ename": "TooOldException",
     "evalue": "You are too old for licence",
     "output_type": "error",
     "traceback": [
      "\u001b[1;31m---------------------------------------------------------------------------\u001b[0m",
      "\u001b[1;31mTooOldException\u001b[0m                           Traceback (most recent call last)",
      "\u001b[1;32m~\\AppData\\Local\\Temp\\ipykernel_5616\\2565407691.py\u001b[0m in \u001b[0;36m<module>\u001b[1;34m\u001b[0m\n\u001b[0;32m     11\u001b[0m     \u001b[1;32mraise\u001b[0m \u001b[0mTooYoungException\u001b[0m\u001b[1;33m(\u001b[0m\u001b[1;34m\"You are too young for licence\"\u001b[0m\u001b[1;33m)\u001b[0m\u001b[1;33m\u001b[0m\u001b[1;33m\u001b[0m\u001b[0m\n\u001b[0;32m     12\u001b[0m \u001b[1;32melif\u001b[0m \u001b[0mage\u001b[0m\u001b[1;33m>\u001b[0m\u001b[1;36m60\u001b[0m\u001b[1;33m:\u001b[0m\u001b[1;33m\u001b[0m\u001b[1;33m\u001b[0m\u001b[0m\n\u001b[1;32m---> 13\u001b[1;33m     \u001b[1;32mraise\u001b[0m \u001b[0mTooOldException\u001b[0m\u001b[1;33m(\u001b[0m\u001b[1;34m\"You are too old for licence\"\u001b[0m\u001b[1;33m)\u001b[0m\u001b[1;33m\u001b[0m\u001b[1;33m\u001b[0m\u001b[0m\n\u001b[0m",
      "\u001b[1;31mTooOldException\u001b[0m: You are too old for licence"
     ]
    }
   ],
   "source": [
    "class TooYoungException(Exception):\n",
    "    def __init__(self,msg):\n",
    "        self.msg=msg\n",
    "\n",
    "class TooOldException(Exception):\n",
    "    def __init__(self,msg):\n",
    "        self.msg=msg\n",
    "\n",
    "age=int(input(\"Enter the age: \"))\n",
    "if age<18:\n",
    "    raise TooYoungException(\"You are too young for licence\")\n",
    "elif age>60:\n",
    "    raise TooOldException(\"You are too old for licence\")"
   ]
  },
  {
   "cell_type": "code",
   "execution_count": 403,
   "id": "d544a9dd",
   "metadata": {},
   "outputs": [
    {
     "name": "stdout",
     "output_type": "stream",
     "text": [
      "Enter an even number: 9\n"
     ]
    },
    {
     "ename": "AssertionError",
     "evalue": "You have entered odd number",
     "output_type": "error",
     "traceback": [
      "\u001b[1;31m---------------------------------------------------------------------------\u001b[0m",
      "\u001b[1;31mAssertionError\u001b[0m                            Traceback (most recent call last)",
      "\u001b[1;32m~\\AppData\\Local\\Temp\\ipykernel_5616\\594177586.py\u001b[0m in \u001b[0;36m<module>\u001b[1;34m\u001b[0m\n\u001b[0;32m      2\u001b[0m \u001b[1;33m\u001b[0m\u001b[0m\n\u001b[0;32m      3\u001b[0m \u001b[0mnum\u001b[0m\u001b[1;33m=\u001b[0m\u001b[0mint\u001b[0m\u001b[1;33m(\u001b[0m\u001b[0minput\u001b[0m\u001b[1;33m(\u001b[0m\u001b[1;34m\"Enter an even number: \"\u001b[0m\u001b[1;33m)\u001b[0m\u001b[1;33m)\u001b[0m\u001b[1;33m\u001b[0m\u001b[1;33m\u001b[0m\u001b[0m\n\u001b[1;32m----> 4\u001b[1;33m \u001b[1;32massert\u001b[0m \u001b[0mnum\u001b[0m\u001b[1;33m%\u001b[0m\u001b[1;36m2\u001b[0m\u001b[1;33m==\u001b[0m\u001b[1;36m0\u001b[0m\u001b[1;33m,\u001b[0m\u001b[1;34m\"You have entered odd number\"\u001b[0m\u001b[1;33m\u001b[0m\u001b[1;33m\u001b[0m\u001b[0m\n\u001b[0m",
      "\u001b[1;31mAssertionError\u001b[0m: You have entered odd number"
     ]
    }
   ],
   "source": [
    "#assert\n",
    "\n",
    "num=int(input(\"Enter an even number: \"))\n",
    "assert num%2==0,\"You have entered odd number\""
   ]
  },
  {
   "cell_type": "code",
   "execution_count": null,
   "id": "92582845",
   "metadata": {},
   "outputs": [],
   "source": [
    "f=open(\"sample.txt\",\"r\")\n",
    "print(f.read())     #Reads entire file\n",
    "f.seek(0)           #moving cursor back to the 0th location\n",
    "print(f.readline()) #Reads single line\n",
    "print(f.readlines()) #Returns list of data in file\n"
   ]
  },
  {
   "cell_type": "code",
   "execution_count": null,
   "id": "f37d47c6",
   "metadata": {},
   "outputs": [],
   "source": [
    "#WRITE\n",
    "f=open(\"sample.txt\",\"w+\")\n",
    "f.write(\"Python is fun \\n\")  \n",
    "f.writelines(['Python \\n','DRF \\n','Django \\n','Docker \\n']) #writing list to file\n",
    "print('Cursor is at',f.tell())\n",
    "f.seek(0)\n",
    "print(f.read())\n",
    "f.close()"
   ]
  },
  {
   "cell_type": "code",
   "execution_count": 404,
   "id": "6a5bf025",
   "metadata": {},
   "outputs": [
    {
     "name": "stdout",
     "output_type": "stream",
     "text": [
      "one\n",
      "['one', 'one']\n",
      "None\n",
      "['Take up ', ' one idea.one ', ' idea at ', ' a time ', '-', '-', '']\n",
      "Take up 1 two idea.two 23 idea at 45 a time 22-12-2033\n",
      "['22-12-2033']\n",
      "['one', 'one']\n"
     ]
    }
   ],
   "source": [
    "#Regular Expression\n",
    "\n",
    "import re\n",
    "str = \"Take up 1 one idea.one 23 idea at 45 a time 22-12-2033\"\n",
    "res=re.search(r'o\\w\\w',str)  #return string starting with o and followed by 2 chars\n",
    "print(res.group())\n",
    "\n",
    "res=re.findall(r'o\\w\\w',str)  #return list starting with o and followed by 2 chars\n",
    "print(res)\n",
    "\n",
    "res=re.match(r'o\\w\\w',str)  #return string starting with o and followed by 2 chars\n",
    "print(res)\n",
    "\n",
    "res=re.split(r'\\d+',str)\n",
    "print(res)\n",
    "\n",
    "res=re.sub(r'one','two',str)\n",
    "print(res)\n",
    "\n",
    "res=re.findall(r'\\d{1,2}-\\d{1,2}-\\d{4}',str)\n",
    "print(res)\n",
    "\n",
    "res=re.findall(r'o\\w+',str)  #return list starting with o and followed by 2 chars\n",
    "print(res)\n"
   ]
  },
  {
   "cell_type": "code",
   "execution_count": 1,
   "id": "dd2d9541",
   "metadata": {},
   "outputs": [
    {
     "name": "stdout",
     "output_type": "stream",
     "text": [
      "27\n"
     ]
    }
   ],
   "source": [
    "print(3**3)"
   ]
  },
  {
   "cell_type": "code",
   "execution_count": 1,
   "id": "3e82bbab",
   "metadata": {},
   "outputs": [
    {
     "ename": "ModuleNotFoundError",
     "evalue": "No module named 'pymongo'",
     "output_type": "error",
     "traceback": [
      "\u001b[1;31m---------------------------------------------------------------------------\u001b[0m",
      "\u001b[1;31mModuleNotFoundError\u001b[0m                       Traceback (most recent call last)",
      "\u001b[1;32m~\\AppData\\Local\\Temp\\ipykernel_10336\\4201807010.py\u001b[0m in \u001b[0;36m<module>\u001b[1;34m\u001b[0m\n\u001b[0;32m      1\u001b[0m \u001b[1;32mimport\u001b[0m \u001b[0mjson\u001b[0m\u001b[1;33m\u001b[0m\u001b[1;33m\u001b[0m\u001b[0m\n\u001b[1;32m----> 2\u001b[1;33m \u001b[1;32mimport\u001b[0m \u001b[0mpymongo\u001b[0m\u001b[1;33m\u001b[0m\u001b[1;33m\u001b[0m\u001b[0m\n\u001b[0m\u001b[0;32m      3\u001b[0m \u001b[1;33m\u001b[0m\u001b[0m\n\u001b[0;32m      4\u001b[0m \u001b[1;32mdef\u001b[0m \u001b[0mlambda_handler\u001b[0m\u001b[1;33m(\u001b[0m\u001b[0mevent\u001b[0m\u001b[1;33m,\u001b[0m \u001b[0mcontext\u001b[0m\u001b[1;33m)\u001b[0m\u001b[1;33m:\u001b[0m\u001b[1;33m\u001b[0m\u001b[1;33m\u001b[0m\u001b[0m\n\u001b[0;32m      5\u001b[0m     \u001b[0mclient\u001b[0m \u001b[1;33m=\u001b[0m \u001b[0mpymongo\u001b[0m\u001b[1;33m.\u001b[0m\u001b[0mMongoClient\u001b[0m\u001b[1;33m(\u001b[0m\u001b[1;34m'mongodb://localhost:27017'\u001b[0m\u001b[1;33m)\u001b[0m \u001b[1;31m#My db connection here.\u001b[0m\u001b[1;33m\u001b[0m\u001b[1;33m\u001b[0m\u001b[0m\n",
      "\u001b[1;31mModuleNotFoundError\u001b[0m: No module named 'pymongo'"
     ]
    }
   ],
   "source": [
    "import json\n",
    "import pymongo\n",
    "\n",
    "def lambda_handler(event, context):\n",
    "    client = pymongo.MongoClient('mongodb://localhost:27017') #My db connection here. \n",
    "    db = client.Employee\n",
    "    col = db.profile\n",
    "    col.find_one({'emp_name':'Nithin'})\n",
    "    foundedUser = col.find_one({'emp_name':'Nithin'})\n",
    "    print(foundedUser)\n",
    "    client.close()\n",
    "    return{\n",
    "        \"statusCode\":200,\n",
    "        \"body\":json.dumps(\"Hello from lambda\")\n",
    "    }"
   ]
  },
  {
   "cell_type": "code",
   "execution_count": 6,
   "id": "0a0b1923",
   "metadata": {},
   "outputs": [],
   "source": [
    "from pymongo import MongoClient\n",
    "\n",
    "\n"
   ]
  },
  {
   "cell_type": "code",
   "execution_count": 7,
   "id": "5269b527",
   "metadata": {},
   "outputs": [],
   "source": [
    "import pymongo\n",
    "\n",
    "def lambda_handler(event, context):\n",
    "    client = pymongo.MongoClient('mongodb://localhost:27017') #My db connection here. \n",
    "    db = client.Employee\n",
    "    col = db.profile\n",
    "    col.find_one({'emp_name':'Nithin'})\n",
    "    foundedUser = col.find_one({'emp_name':'Nithin'})\n",
    "    print(foundedUser)\n",
    "    client.close()\n",
    "    return{\n",
    "        \"statusCode\":200,\n",
    "        \"body\":json.dumps(\"Hello from lambda\")\n",
    "    }\n"
   ]
  },
  {
   "cell_type": "code",
   "execution_count": 41,
   "id": "b26d2f1c",
   "metadata": {},
   "outputs": [],
   "source": [
    "from pymongo import MongoClient\n"
   ]
  },
  {
   "cell_type": "code",
   "execution_count": null,
   "id": "ce805515",
   "metadata": {},
   "outputs": [],
   "source": []
  },
  {
   "cell_type": "code",
   "execution_count": 42,
   "id": "f8780841",
   "metadata": {},
   "outputs": [],
   "source": [
    "client = MongoClient()"
   ]
  },
  {
   "cell_type": "code",
   "execution_count": 43,
   "id": "1e4cc1be",
   "metadata": {},
   "outputs": [],
   "source": [
    "db=client.student"
   ]
  },
  {
   "cell_type": "code",
   "execution_count": 44,
   "id": "56ac534e",
   "metadata": {},
   "outputs": [],
   "source": [
    "col=db.profile"
   ]
  },
  {
   "cell_type": "code",
   "execution_count": 45,
   "id": "8dec8982",
   "metadata": {},
   "outputs": [
    {
     "data": {
      "text/plain": [
       "<bound method Database.list_collection_names of Database(MongoClient(host=['localhost:27017'], document_class=dict, tz_aware=False, connect=True), 'student')>"
      ]
     },
     "execution_count": 45,
     "metadata": {},
     "output_type": "execute_result"
    }
   ],
   "source": [
    "db.list_collection_names"
   ]
  },
  {
   "cell_type": "code",
   "execution_count": 46,
   "id": "32911c80",
   "metadata": {},
   "outputs": [
    {
     "data": {
      "text/plain": [
       "<pymongo.results.InsertManyResult at 0x2dc1067b7c0>"
      ]
     },
     "execution_count": 46,
     "metadata": {},
     "output_type": "execute_result"
    }
   ],
   "source": [
    "data=[{\"rollno\":1,\"name\":\"Adarsh\"},{\"rollno\":2,\"name\":\"Anish\"}]\n",
    "col.insert_many(data)\n"
   ]
  },
  {
   "cell_type": "code",
   "execution_count": 47,
   "id": "5f53c935",
   "metadata": {},
   "outputs": [],
   "source": [
    "x=col.find_one({'rollno':2})"
   ]
  },
  {
   "cell_type": "code",
   "execution_count": 48,
   "id": "55f5bc6c",
   "metadata": {},
   "outputs": [
    {
     "name": "stdout",
     "output_type": "stream",
     "text": [
      "{'_id': ObjectId('63a00e5da071b549f0e23140'), 'rollno': 2, 'name': 'akash'}\n"
     ]
    }
   ],
   "source": [
    "print(x)"
   ]
  },
  {
   "cell_type": "code",
   "execution_count": 49,
   "id": "35423d09",
   "metadata": {},
   "outputs": [
    {
     "data": {
      "text/plain": [
       "ObjectId('63a00e5da071b549f0e23140')"
      ]
     },
     "execution_count": 49,
     "metadata": {},
     "output_type": "execute_result"
    }
   ],
   "source": [
    "x.pop(\"_id\",None)"
   ]
  },
  {
   "cell_type": "code",
   "execution_count": 50,
   "id": "7a907dfb",
   "metadata": {},
   "outputs": [
    {
     "name": "stdout",
     "output_type": "stream",
     "text": [
      "{'rollno': 2, 'name': 'akash'}\n"
     ]
    }
   ],
   "source": [
    "print(x)"
   ]
  },
  {
   "cell_type": "code",
   "execution_count": 51,
   "id": "40ba3795",
   "metadata": {},
   "outputs": [],
   "source": [
    " myquery={'name':'Nihaal'}\n",
    "           "
   ]
  },
  {
   "cell_type": "code",
   "execution_count": 52,
   "id": "40ad5168",
   "metadata": {},
   "outputs": [],
   "source": [
    " newvalue={'$set':{'name':'akash'}}"
   ]
  },
  {
   "cell_type": "code",
   "execution_count": 53,
   "id": "7dd08a63",
   "metadata": {},
   "outputs": [],
   "source": [
    "x=col.update_one(myquery,newvalue).modified_count\n",
    "            "
   ]
  },
  {
   "cell_type": "code",
   "execution_count": 54,
   "id": "51b9499a",
   "metadata": {},
   "outputs": [
    {
     "name": "stdout",
     "output_type": "stream",
     "text": [
      "{'_id': ObjectId('63a00e5da071b549f0e2313f'), 'rollno': 1, 'name': 'Adarsh'}\n",
      "{'_id': ObjectId('63a00e5da071b549f0e23140'), 'rollno': 2, 'name': 'akash'}\n",
      "{'_id': ObjectId('63a0431da071b549f0e23142'), 'rollno': 1, 'name': 'Adarsh'}\n",
      "{'_id': ObjectId('63a0431da071b549f0e23143'), 'rollno': 2, 'name': 'Anish'}\n"
     ]
    }
   ],
   "source": [
    "for y in col.find():\n",
    "    print(y)"
   ]
  },
  {
   "cell_type": "code",
   "execution_count": 40,
   "id": "d0676955",
   "metadata": {},
   "outputs": [
    {
     "name": "stdout",
     "output_type": "stream",
     "text": [
      "1\n"
     ]
    }
   ],
   "source": [
    "print(x)"
   ]
  },
  {
   "cell_type": "code",
   "execution_count": 55,
   "id": "6e03fabd",
   "metadata": {},
   "outputs": [],
   "source": [
    "myquer={'rollno':1}\n",
    "newv={'$set':{'name':'updatedname'}}\n"
   ]
  },
  {
   "cell_type": "code",
   "execution_count": 58,
   "id": "4b49393f",
   "metadata": {},
   "outputs": [],
   "source": [
    "z=col.update_many(myquer,newv).matched_count"
   ]
  },
  {
   "cell_type": "code",
   "execution_count": 59,
   "id": "227b4d27",
   "metadata": {},
   "outputs": [
    {
     "name": "stdout",
     "output_type": "stream",
     "text": [
      "2\n"
     ]
    }
   ],
   "source": [
    "print(z)"
   ]
  },
  {
   "cell_type": "code",
   "execution_count": 60,
   "id": "dbccc553",
   "metadata": {},
   "outputs": [
    {
     "ename": "SyntaxError",
     "evalue": "'return' outside function (4005824229.py, line 2)",
     "output_type": "error",
     "traceback": [
      "\u001b[1;36m  File \u001b[1;32m\"C:\\Users\\Adarsh.Koushik\\AppData\\Local\\Temp\\ipykernel_17132\\4005824229.py\"\u001b[1;36m, line \u001b[1;32m2\u001b[0m\n\u001b[1;33m    return \"Documents Updated\"\u001b[0m\n\u001b[1;37m    ^\u001b[0m\n\u001b[1;31mSyntaxError\u001b[0m\u001b[1;31m:\u001b[0m 'return' outside function\n"
     ]
    }
   ],
   "source": [
    "    if z>0:\n",
    "        return \"Documents Updated\"\n",
    "    else:\n",
    "        return \"Documents Not Updated\""
   ]
  },
  {
   "cell_type": "code",
   "execution_count": null,
   "id": "491a9fb1",
   "metadata": {},
   "outputs": [],
   "source": []
  }
 ],
 "metadata": {
  "kernelspec": {
   "display_name": "Python 3 (ipykernel)",
   "language": "python",
   "name": "python3"
  },
  "language_info": {
   "codemirror_mode": {
    "name": "ipython",
    "version": 3
   },
   "file_extension": ".py",
   "mimetype": "text/x-python",
   "name": "python",
   "nbconvert_exporter": "python",
   "pygments_lexer": "ipython3",
   "version": "3.9.13"
  }
 },
 "nbformat": 4,
 "nbformat_minor": 5
}
